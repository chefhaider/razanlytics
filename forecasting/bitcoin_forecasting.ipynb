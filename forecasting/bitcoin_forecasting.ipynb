{
  "nbformat": 4,
  "nbformat_minor": 0,
  "metadata": {
    "colab": {
      "name": "bitcoin-forecasting.ipynb",
      "provenance": [],
      "authorship_tag": "ABX9TyMs1K0u/Vi8pnI7yKgW+r0F",
      "include_colab_link": true
    },
    "kernelspec": {
      "name": "python3",
      "display_name": "Python 3"
    },
    "language_info": {
      "name": "python"
    }
  },
  "cells": [
    {
      "cell_type": "markdown",
      "metadata": {
        "id": "view-in-github",
        "colab_type": "text"
      },
      "source": [
        "<a href=\"https://colab.research.google.com/github/chefhaider/razanlytics/blob/main/forecasting/bitcoin_forecasting.ipynb\" target=\"_parent\"><img src=\"https://colab.research.google.com/assets/colab-badge.svg\" alt=\"Open In Colab\"/></a>"
      ]
    },
    {
      "cell_type": "code",
      "execution_count": 83,
      "metadata": {
        "id": "RRIJ0oDIh3ja"
      },
      "outputs": [],
      "source": [
        "import matplotlib.pyplot as plt\n",
        "import pandas as pd\n",
        "import pandas_datareader as web\n",
        "import datetime as dt\n",
        "import numpy as np\n",
        "\n",
        "\n",
        "from sklearn.preprocessing import MinMaxScaler\n",
        "from tensorflow.keras.layers import Dense, Dropout, LSTM\n",
        "from tensorflow.keras.models import Sequential\n",
        "\n",
        "from datetime import datetime"
      ]
    },
    {
      "cell_type": "code",
      "source": [
        "df = pd.read_csv('btc.csv',skiprows=1)"
      ],
      "metadata": {
        "id": "DFYFBHp7SAj3"
      },
      "execution_count": 84,
      "outputs": []
    },
    {
      "cell_type": "code",
      "source": [
        "df = df[['date','close']]"
      ],
      "metadata": {
        "id": "pnn5Uy0hXszi"
      },
      "execution_count": 85,
      "outputs": []
    },
    {
      "cell_type": "code",
      "source": [
        "df['date'] = pd.to_datetime(df['date'])"
      ],
      "metadata": {
        "id": "RFGyU7BZhQ1d"
      },
      "execution_count": 86,
      "outputs": []
    },
    {
      "cell_type": "code",
      "source": [
        "data = df"
      ],
      "metadata": {
        "id": "WyUxNrh483ED"
      },
      "execution_count": 87,
      "outputs": []
    },
    {
      "cell_type": "code",
      "source": [
        "df = df[df['date']<pd.to_datetime('2022-02-19 00:00:00')]\n",
        "df.head()"
      ],
      "metadata": {
        "colab": {
          "base_uri": "https://localhost:8080/",
          "height": 206
        },
        "id": "Ys6dFEhP86qd",
        "outputId": "982e087a-430a-4938-894e-766415c0fb3c"
      },
      "execution_count": 88,
      "outputs": [
        {
          "output_type": "execute_result",
          "data": {
            "text/html": [
              "\n",
              "  <div id=\"df-8174ab52-5775-4b80-9c88-75fd9b0b52a4\">\n",
              "    <div class=\"colab-df-container\">\n",
              "      <div>\n",
              "<style scoped>\n",
              "    .dataframe tbody tr th:only-of-type {\n",
              "        vertical-align: middle;\n",
              "    }\n",
              "\n",
              "    .dataframe tbody tr th {\n",
              "        vertical-align: top;\n",
              "    }\n",
              "\n",
              "    .dataframe thead th {\n",
              "        text-align: right;\n",
              "    }\n",
              "</style>\n",
              "<table border=\"1\" class=\"dataframe\">\n",
              "  <thead>\n",
              "    <tr style=\"text-align: right;\">\n",
              "      <th></th>\n",
              "      <th>date</th>\n",
              "      <th>close</th>\n",
              "    </tr>\n",
              "  </thead>\n",
              "  <tbody>\n",
              "    <tr>\n",
              "      <th>49</th>\n",
              "      <td>2022-02-18 23:00:00</td>\n",
              "      <td>39996.99</td>\n",
              "    </tr>\n",
              "    <tr>\n",
              "      <th>50</th>\n",
              "      <td>2022-02-18 22:00:00</td>\n",
              "      <td>39961.90</td>\n",
              "    </tr>\n",
              "    <tr>\n",
              "      <th>51</th>\n",
              "      <td>2022-02-18 21:00:00</td>\n",
              "      <td>40007.25</td>\n",
              "    </tr>\n",
              "    <tr>\n",
              "      <th>52</th>\n",
              "      <td>2022-02-18 20:00:00</td>\n",
              "      <td>40044.19</td>\n",
              "    </tr>\n",
              "    <tr>\n",
              "      <th>53</th>\n",
              "      <td>2022-02-18 19:00:00</td>\n",
              "      <td>40232.95</td>\n",
              "    </tr>\n",
              "  </tbody>\n",
              "</table>\n",
              "</div>\n",
              "      <button class=\"colab-df-convert\" onclick=\"convertToInteractive('df-8174ab52-5775-4b80-9c88-75fd9b0b52a4')\"\n",
              "              title=\"Convert this dataframe to an interactive table.\"\n",
              "              style=\"display:none;\">\n",
              "        \n",
              "  <svg xmlns=\"http://www.w3.org/2000/svg\" height=\"24px\"viewBox=\"0 0 24 24\"\n",
              "       width=\"24px\">\n",
              "    <path d=\"M0 0h24v24H0V0z\" fill=\"none\"/>\n",
              "    <path d=\"M18.56 5.44l.94 2.06.94-2.06 2.06-.94-2.06-.94-.94-2.06-.94 2.06-2.06.94zm-11 1L8.5 8.5l.94-2.06 2.06-.94-2.06-.94L8.5 2.5l-.94 2.06-2.06.94zm10 10l.94 2.06.94-2.06 2.06-.94-2.06-.94-.94-2.06-.94 2.06-2.06.94z\"/><path d=\"M17.41 7.96l-1.37-1.37c-.4-.4-.92-.59-1.43-.59-.52 0-1.04.2-1.43.59L10.3 9.45l-7.72 7.72c-.78.78-.78 2.05 0 2.83L4 21.41c.39.39.9.59 1.41.59.51 0 1.02-.2 1.41-.59l7.78-7.78 2.81-2.81c.8-.78.8-2.07 0-2.86zM5.41 20L4 18.59l7.72-7.72 1.47 1.35L5.41 20z\"/>\n",
              "  </svg>\n",
              "      </button>\n",
              "      \n",
              "  <style>\n",
              "    .colab-df-container {\n",
              "      display:flex;\n",
              "      flex-wrap:wrap;\n",
              "      gap: 12px;\n",
              "    }\n",
              "\n",
              "    .colab-df-convert {\n",
              "      background-color: #E8F0FE;\n",
              "      border: none;\n",
              "      border-radius: 50%;\n",
              "      cursor: pointer;\n",
              "      display: none;\n",
              "      fill: #1967D2;\n",
              "      height: 32px;\n",
              "      padding: 0 0 0 0;\n",
              "      width: 32px;\n",
              "    }\n",
              "\n",
              "    .colab-df-convert:hover {\n",
              "      background-color: #E2EBFA;\n",
              "      box-shadow: 0px 1px 2px rgba(60, 64, 67, 0.3), 0px 1px 3px 1px rgba(60, 64, 67, 0.15);\n",
              "      fill: #174EA6;\n",
              "    }\n",
              "\n",
              "    [theme=dark] .colab-df-convert {\n",
              "      background-color: #3B4455;\n",
              "      fill: #D2E3FC;\n",
              "    }\n",
              "\n",
              "    [theme=dark] .colab-df-convert:hover {\n",
              "      background-color: #434B5C;\n",
              "      box-shadow: 0px 1px 3px 1px rgba(0, 0, 0, 0.15);\n",
              "      filter: drop-shadow(0px 1px 2px rgba(0, 0, 0, 0.3));\n",
              "      fill: #FFFFFF;\n",
              "    }\n",
              "  </style>\n",
              "\n",
              "      <script>\n",
              "        const buttonEl =\n",
              "          document.querySelector('#df-8174ab52-5775-4b80-9c88-75fd9b0b52a4 button.colab-df-convert');\n",
              "        buttonEl.style.display =\n",
              "          google.colab.kernel.accessAllowed ? 'block' : 'none';\n",
              "\n",
              "        async function convertToInteractive(key) {\n",
              "          const element = document.querySelector('#df-8174ab52-5775-4b80-9c88-75fd9b0b52a4');\n",
              "          const dataTable =\n",
              "            await google.colab.kernel.invokeFunction('convertToInteractive',\n",
              "                                                     [key], {});\n",
              "          if (!dataTable) return;\n",
              "\n",
              "          const docLinkHtml = 'Like what you see? Visit the ' +\n",
              "            '<a target=\"_blank\" href=https://colab.research.google.com/notebooks/data_table.ipynb>data table notebook</a>'\n",
              "            + ' to learn more about interactive tables.';\n",
              "          element.innerHTML = '';\n",
              "          dataTable['output_type'] = 'display_data';\n",
              "          await google.colab.output.renderOutput(dataTable, element);\n",
              "          const docLink = document.createElement('div');\n",
              "          docLink.innerHTML = docLinkHtml;\n",
              "          element.appendChild(docLink);\n",
              "        }\n",
              "      </script>\n",
              "    </div>\n",
              "  </div>\n",
              "  "
            ],
            "text/plain": [
              "                  date     close\n",
              "49 2022-02-18 23:00:00  39996.99\n",
              "50 2022-02-18 22:00:00  39961.90\n",
              "51 2022-02-18 21:00:00  40007.25\n",
              "52 2022-02-18 20:00:00  40044.19\n",
              "53 2022-02-18 19:00:00  40232.95"
            ]
          },
          "metadata": {},
          "execution_count": 88
        }
      ]
    },
    {
      "cell_type": "code",
      "source": [
        "scaler = MinMaxScaler(feature_range=(0,1))\n",
        "scaled_data = scaler.fit_transform(df['close'].values.reshape(-1,1))"
      ],
      "metadata": {
        "id": "uGgu6HmqYqRZ"
      },
      "execution_count": 89,
      "outputs": []
    },
    {
      "cell_type": "code",
      "source": [
        "prediction_window = 72\n",
        "\n",
        "x_train, y_train = [], []\n",
        "\n",
        "for x in range(prediction_window,len(scaled_data)):\n",
        "  x_train.append(scaled_data[x-prediction_window:x,0])\n",
        "  y_train.append(scaled_data[x,0])\n",
        "\n",
        "\n",
        "x_train, y_train = np.array(x_train), np.array(y_train)\n",
        "x_train = np.reshape(x_train, (x_train.shape[0], x_train.shape[1],1))"
      ],
      "metadata": {
        "id": "S5yQf7g9ZGkB"
      },
      "execution_count": 90,
      "outputs": []
    },
    {
      "cell_type": "code",
      "source": [
        "model = Sequential()\n",
        "model.add(LSTM(units = 50, return_sequences=True, input_shape = (x_train.shape[1],1)))\n",
        "model.add(Dropout(0.2))\n",
        "model.add(LSTM(units = 50, return_sequences=True))\n",
        "model.add(Dropout(0.2))\n",
        "model.add(LSTM(units = 50))\n",
        "model.add(Dropout(0.2))\n",
        "model.add(Dense(units = 1))\n",
        "\n",
        "model.compile(optimizer='adam', loss = 'mean_squared_error')\n",
        "model.fit(x_train, y_train, epochs = 25, batch_size=32)"
      ],
      "metadata": {
        "colab": {
          "base_uri": "https://localhost:8080/"
        },
        "id": "3gs-wrs3bN5V",
        "outputId": "bd2c3e95-4a81-4fb9-d358-9e5fe0bf648a"
      },
      "execution_count": 91,
      "outputs": [
        {
          "output_type": "stream",
          "name": "stdout",
          "text": [
            "Epoch 1/25\n",
            "1030/1030 [==============================] - 123s 114ms/step - loss: 0.0021\n",
            "Epoch 2/25\n",
            "1030/1030 [==============================] - 115s 112ms/step - loss: 8.9963e-04\n",
            "Epoch 3/25\n",
            "1030/1030 [==============================] - 114s 111ms/step - loss: 7.6713e-04\n",
            "Epoch 4/25\n",
            "1030/1030 [==============================] - 115s 112ms/step - loss: 7.0506e-04\n",
            "Epoch 5/25\n",
            "1030/1030 [==============================] - 116s 113ms/step - loss: 6.8096e-04\n",
            "Epoch 6/25\n",
            "1030/1030 [==============================] - 116s 113ms/step - loss: 6.4089e-04\n",
            "Epoch 7/25\n",
            "1030/1030 [==============================] - 116s 113ms/step - loss: 6.4143e-04\n",
            "Epoch 8/25\n",
            "1030/1030 [==============================] - 117s 113ms/step - loss: 6.2647e-04\n",
            "Epoch 9/25\n",
            "1030/1030 [==============================] - 115s 112ms/step - loss: 6.3197e-04\n",
            "Epoch 10/25\n",
            "1030/1030 [==============================] - 114s 110ms/step - loss: 6.1715e-04\n",
            "Epoch 11/25\n",
            "1030/1030 [==============================] - 114s 110ms/step - loss: 6.1995e-04\n",
            "Epoch 12/25\n",
            "1030/1030 [==============================] - 113s 110ms/step - loss: 6.0972e-04\n",
            "Epoch 13/25\n",
            "1030/1030 [==============================] - 114s 110ms/step - loss: 6.0660e-04\n",
            "Epoch 14/25\n",
            "1030/1030 [==============================] - 114s 110ms/step - loss: 5.9195e-04\n",
            "Epoch 15/25\n",
            "1030/1030 [==============================] - 114s 111ms/step - loss: 5.6881e-04\n",
            "Epoch 16/25\n",
            "1030/1030 [==============================] - 114s 110ms/step - loss: 5.9290e-04\n",
            "Epoch 17/25\n",
            "1030/1030 [==============================] - 113s 110ms/step - loss: 5.6716e-04\n",
            "Epoch 18/25\n",
            "1030/1030 [==============================] - 113s 110ms/step - loss: 5.5822e-04\n",
            "Epoch 19/25\n",
            "1030/1030 [==============================] - 113s 110ms/step - loss: 5.7808e-04\n",
            "Epoch 20/25\n",
            "1030/1030 [==============================] - 113s 110ms/step - loss: 5.4140e-04\n",
            "Epoch 21/25\n",
            "1030/1030 [==============================] - 113s 109ms/step - loss: 5.4998e-04\n",
            "Epoch 22/25\n",
            "1030/1030 [==============================] - 113s 110ms/step - loss: 5.3358e-04\n",
            "Epoch 23/25\n",
            "1030/1030 [==============================] - 114s 110ms/step - loss: 5.4678e-04\n",
            "Epoch 24/25\n",
            "1030/1030 [==============================] - 113s 110ms/step - loss: 5.6105e-04\n",
            "Epoch 25/25\n",
            "1030/1030 [==============================] - 113s 110ms/step - loss: 5.3904e-04\n"
          ]
        },
        {
          "output_type": "execute_result",
          "data": {
            "text/plain": [
              "<keras.callbacks.History at 0x7f80d019c090>"
            ]
          },
          "metadata": {},
          "execution_count": 91
        }
      ]
    },
    {
      "cell_type": "code",
      "source": [
        "print('hello')"
      ],
      "metadata": {
        "colab": {
          "base_uri": "https://localhost:8080/"
        },
        "id": "qDIpbt0YMz20",
        "outputId": "415faae2-fc3f-4f89-ab28-45279341f096"
      },
      "execution_count": 93,
      "outputs": [
        {
          "output_type": "stream",
          "name": "stdout",
          "text": [
            "hello\n"
          ]
        }
      ]
    }
  ]
}