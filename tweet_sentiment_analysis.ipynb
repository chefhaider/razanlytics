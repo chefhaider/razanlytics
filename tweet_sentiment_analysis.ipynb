{
  "nbformat": 4,
  "nbformat_minor": 0,
  "metadata": {
    "colab": {
      "name": "tweet-sentiment-analysis.ipynb",
      "provenance": [],
      "mount_file_id": "https://github.com/chefhaider/razanlytics/blob/main/tweet_sentiment_analysis.ipynb",
      "authorship_tag": "ABX9TyMjG8WeAHL05imaYlwDRXAJ",
      "include_colab_link": true
    },
    "kernelspec": {
      "name": "python3",
      "display_name": "Python 3"
    },
    "language_info": {
      "name": "python"
    }
  },
  "cells": [
    {
      "cell_type": "markdown",
      "metadata": {
        "id": "view-in-github",
        "colab_type": "text"
      },
      "source": [
        "<a href=\"https://colab.research.google.com/github/chefhaider/razanlytics/blob/main/tweet_sentiment_analysis.ipynb\" target=\"_parent\"><img src=\"https://colab.research.google.com/assets/colab-badge.svg\" alt=\"Open In Colab\"/></a>"
      ]
    },
    {
      "cell_type": "code",
      "metadata": {
        "id": "AMBYQ0Wkbyfi"
      },
      "source": [
        "import pandas as pd"
      ],
      "execution_count": 6,
      "outputs": []
    },
    {
      "cell_type": "code",
      "metadata": {
        "id": "TtKHYiSyZnxf"
      },
      "source": [
        "import os\n",
        "\n",
        "os.environ['KAGGLE_USERNAME'] = \"move78\"\n",
        "os.environ['KAGGLE_KEY'] = \"51b2df54d6826a7b140f6335252c1fcd\""
      ],
      "execution_count": 2,
      "outputs": []
    },
    {
      "cell_type": "code",
      "metadata": {
        "colab": {
          "base_uri": "https://localhost:8080/"
        },
        "id": "gtHXsJkeZkU_",
        "outputId": "765bbf4c-a68c-4c5c-8aac-de72184ee0a9"
      },
      "source": [
        "!kaggle datasets download -d alaix14/bitcoin-tweets-20160101-to-20190329 -p /content/drive/MyDrive/fyp/"
      ],
      "execution_count": 5,
      "outputs": [
        {
          "output_type": "stream",
          "name": "stdout",
          "text": [
            "Downloading bitcoin-tweets-20160101-to-20190329.zip to /content/drive/MyDrive/fyp\n",
            "100% 1.58G/1.58G [00:56<00:00, 37.9MB/s]\n",
            "100% 1.58G/1.58G [00:56<00:00, 30.1MB/s]\n"
          ]
        }
      ]
    },
    {
      "cell_type": "markdown",
      "metadata": {
        "id": "pReZUXBqdoGK"
      },
      "source": [
        "2021-02-05 10:52:04 - 2021-10-29 23:59:56"
      ]
    },
    {
      "cell_type": "code",
      "metadata": {
        "id": "Hw9TAAMOkSZd"
      },
      "source": [
        "df = pd.read_csv('/content/drive/MyDrive/fyp/bitcoin-tweets.csv')"
      ],
      "execution_count": null,
      "outputs": []
    },
    {
      "cell_type": "code",
      "metadata": {
        "id": "2T7CaeZRbw2o"
      },
      "source": [
        "df = df.drop((list(df.loc[df['is_retweet'].isna() & df['source'].isna() & df['hashtags'].notna()].index))).reset_index()\n",
        "df[df['user_location'].notna() & df['user_location'].str.contains('^20..-',regex = True)].count()"
      ],
      "execution_count": 36,
      "outputs": []
    },
    {
      "cell_type": "code",
      "metadata": {
        "id": "3OAvnmSDrZKj",
        "outputId": "a8b38bee-dc86-466f-d58d-7c86a0028494",
        "colab": {
          "base_uri": "https://localhost:8080/"
        }
      },
      "source": [
        "!unzip '/content/drive/MyDrive/fyp/bitcoin-tweets-20160101-to-20190329.zip' -d '/content/drive/MyDrive/fyp/'"
      ],
      "execution_count": 42,
      "outputs": [
        {
          "output_type": "stream",
          "name": "stdout",
          "text": [
            "Archive:  /content/drive/MyDrive/fyp/bitcoin-tweets-20160101-to-20190329.zip\n",
            "  inflating: /content/drive/MyDrive/fyp/tweets.csv  \n"
          ]
        }
      ]
    },
    {
      "cell_type": "code",
      "metadata": {
        "id": "d1huB4y6iDFN",
        "outputId": "37939f65-e1a6-465e-a101-9c51cb5c273f",
        "colab": {
          "base_uri": "https://localhost:8080/"
        }
      },
      "source": [
        "df = pd.read_csv('/content/drive/MyDrive/fyp/bitcoin-tweets-2016-2019.csv', sep='delimiter', header=None)"
      ],
      "execution_count": null,
      "outputs": [
        {
          "output_type": "stream",
          "name": "stderr",
          "text": [
            "/usr/local/lib/python3.7/dist-packages/ipykernel_launcher.py:1: ParserWarning: Falling back to the 'python' engine because the 'c' engine does not support regex separators (separators > 1 char and different from '\\s+' are interpreted as regex); you can avoid this warning by specifying engine='python'.\n",
            "  \"\"\"Entry point for launching an IPython kernel.\n"
          ]
        }
      ]
    }
  ]
}