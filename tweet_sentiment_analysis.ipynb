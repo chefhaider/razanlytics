{
  "nbformat": 4,
  "nbformat_minor": 0,
  "metadata": {
    "colab": {
      "name": "tweet-sentiment-analysis.ipynb",
      "provenance": [],
      "mount_file_id": "https://github.com/chefhaider/razanlytics/blob/main/tweet_sentiment_analysis.ipynb",
      "authorship_tag": "ABX9TyM+yI8vFF6Eh+YUeOemwyQ2",
      "include_colab_link": true
    },
    "kernelspec": {
      "name": "python3",
      "display_name": "Python 3"
    },
    "language_info": {
      "name": "python"
    }
  },
  "cells": [
    {
      "cell_type": "markdown",
      "metadata": {
        "id": "view-in-github",
        "colab_type": "text"
      },
      "source": [
        "<a href=\"https://colab.research.google.com/github/chefhaider/razanlytics/blob/main/tweet_sentiment_analysis.ipynb\" target=\"_parent\"><img src=\"https://colab.research.google.com/assets/colab-badge.svg\" alt=\"Open In Colab\"/></a>"
      ]
    },
    {
      "cell_type": "code",
      "metadata": {
        "id": "AMBYQ0Wkbyfi"
      },
      "source": [
        "import pandas as pd"
      ],
      "execution_count": 6,
      "outputs": []
    },
    {
      "cell_type": "code",
      "metadata": {
        "id": "TtKHYiSyZnxf"
      },
      "source": [
        "import os\n",
        "\n",
        "os.environ['KAGGLE_USERNAME'] = \"move78\"\n",
        "os.environ['KAGGLE_KEY'] = \"51b2df54d6826a7b140f6335252c1fcd\""
      ],
      "execution_count": 2,
      "outputs": []
    },
    {
      "cell_type": "code",
      "metadata": {
        "id": "gtHXsJkeZkU_",
        "outputId": "765bbf4c-a68c-4c5c-8aac-de72184ee0a9",
        "colab": {
          "base_uri": "https://localhost:8080/"
        }
      },
      "source": [
        "!kaggle datasets download -d alaix14/bitcoin-tweets-20160101-to-20190329 -p /content/drive/MyDrive/fyp/"
      ],
      "execution_count": 5,
      "outputs": [
        {
          "output_type": "stream",
          "name": "stdout",
          "text": [
            "Downloading bitcoin-tweets-20160101-to-20190329.zip to /content/drive/MyDrive/fyp\n",
            "100% 1.58G/1.58G [00:56<00:00, 37.9MB/s]\n",
            "100% 1.58G/1.58G [00:56<00:00, 30.1MB/s]\n"
          ]
        }
      ]
    },
    {
      "cell_type": "code",
      "metadata": {
        "id": "2T7CaeZRbw2o"
      },
      "source": [
        "df = pd.read_csv('/content/drive/MyDrive/fyp/bitcoin-tweets.csv')\n",
        "df.loc[]"
      ],
      "execution_count": null,
      "outputs": []
    }
  ]
}