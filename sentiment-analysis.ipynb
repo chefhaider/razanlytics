{
  "nbformat": 4,
  "nbformat_minor": 0,
  "metadata": {
    "colab": {
      "name": "sentiment-analysis.ipynb",
      "provenance": [],
      "mount_file_id": "https://github.com/chefhaider/razanlytics/blob/main/sentiment-analysis.ipynb",
      "authorship_tag": "ABX9TyMSvToDQxXGOc1rFaDpTJPq",
      "include_colab_link": true
    },
    "kernelspec": {
      "name": "python3",
      "display_name": "Python 3"
    },
    "language_info": {
      "name": "python"
    }
  },
  "cells": [
    {
      "cell_type": "markdown",
      "metadata": {
        "id": "view-in-github",
        "colab_type": "text"
      },
      "source": [
        "<a href=\"https://colab.research.google.com/github/chefhaider/razanlytics/blob/main/sentiment-analysis.ipynb\" target=\"_parent\"><img src=\"https://colab.research.google.com/assets/colab-badge.svg\" alt=\"Open In Colab\"/></a>"
      ]
    },
    {
      "cell_type": "code",
      "source": [
        "#pip uninstall pandas-datareader -y\n"
      ],
      "metadata": {
        "id": "WYzGZ9ljrzJ9"
      },
      "execution_count": 197,
      "outputs": []
    },
    {
      "cell_type": "code",
      "source": [
        "#pip install pandas-datareader -U"
      ],
      "metadata": {
        "id": "9oyL3ZUR4BbL"
      },
      "execution_count": 198,
      "outputs": []
    },
    {
      "cell_type": "code",
      "source": [
        "from google.colab import drive\n",
        "drive.mount('/content/drive')"
      ],
      "metadata": {
        "id": "vmFB7gML3upv",
        "outputId": "3e92cfaa-9066-407b-f73e-059e865f6cc5",
        "colab": {
          "base_uri": "https://localhost:8080/"
        }
      },
      "execution_count": 199,
      "outputs": [
        {
          "output_type": "stream",
          "name": "stdout",
          "text": [
            "Drive already mounted at /content/drive; to attempt to forcibly remount, call drive.mount(\"/content/drive\", force_remount=True).\n"
          ]
        }
      ]
    },
    {
      "cell_type": "code",
      "source": [
        "init_datetime = '2022-01-10'\n",
        "fin_datetime = '2022-01-11'"
      ],
      "metadata": {
        "id": "W4oCtaCFedwo"
      },
      "execution_count": 200,
      "outputs": []
    },
    {
      "cell_type": "code",
      "execution_count": 201,
      "metadata": {
        "id": "YDAgd2ZXhDCL"
      },
      "outputs": [],
      "source": [
        "import pandas as pd\n",
        "import requests\n",
        "\n",
        "import pandas_datareader.data as pdr\n",
        "from datetime import datetime\n",
        "\n",
        "import plotly.offline as py\n",
        "import plotly.graph_objs as go\n",
        "\n",
        "\n",
        "import matplotlib.pyplot as plt\n",
        "import seaborn as sns\n",
        "\n",
        "\"\"\"start = datetime(2018,2,19)\n",
        "end = datetime(2021,6,1)\n",
        "df = pdr.DataReader('BTC-USD','yahoo',start,end)\n",
        "\n",
        "df.head()\"\"\"\n",
        "\n",
        "###########\n",
        "dft = pd.read_csv('/content/drive/MyDrive/fyp/sentiments/btc.csv',skiprows=1)\n",
        "dft['date'] = pd.to_datetime(dft.date)\n",
        "\n",
        "df = dft[(dft['date'] >= init_datetime) & (dft['date'] < fin_datetime)]\n",
        "\n",
        "\n",
        "data = [go.Candlestick(x=df.date,open=df.open,high=df.high,low=df.low,close=df.close)]\n",
        "layout = go.Layout(title='Bitcoin Candlestick with Range Slider',xaxis={'rangeslider':{'visible':True}})\n",
        "\n",
        "fig = go.Figure(data=data,layout=layout)\n",
        "\n",
        "\n",
        "\n",
        "##############\n",
        "\n",
        "dfs = pd.read_csv(f'/content/drive/MyDrive/fyp/sentiments/tweets_{init_datetime}.csv.csv')\n",
        "\n",
        "dfs['timestamp'] = pd.to_datetime(dfs.timestamp)\n",
        "dfs = dfs.resample('H', on='timestamp').agg({'compound':'mean'})"
      ]
    },
    {
      "cell_type": "code",
      "source": [
        "fig.show(renderer=\"colab\")"
      ],
      "metadata": {
        "id": "L_tn3VsRrayE"
      },
      "execution_count": null,
      "outputs": []
    },
    {
      "cell_type": "code",
      "source": [
        "plt.figure(figsize = (15,8))\n",
        "sns.lineplot(x = 'timestamp', y = 'compound',data = dfs)"
      ],
      "metadata": {
        "id": "TxmU_xIRJyVR"
      },
      "execution_count": null,
      "outputs": []
    }
  ]
}