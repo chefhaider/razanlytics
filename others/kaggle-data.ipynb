{
  "nbformat": 4,
  "nbformat_minor": 0,
  "metadata": {
    "colab": {
      "name": "tweet-sentiment-analysis.ipynb",
      "provenance": [],
      "mount_file_id": "https://github.com/chefhaider/razanlytics/blob/main/tweet_sentiment_analysis.ipynb",
      "authorship_tag": "ABX9TyNGEzLBPcIOFr40kKqLNqxH",
      "include_colab_link": true
    },
    "kernelspec": {
      "name": "python3",
      "display_name": "Python 3"
    },
    "language_info": {
      "name": "python"
    }
  },
  "cells": [
    {
      "cell_type": "markdown",
      "metadata": {
        "id": "view-in-github",
        "colab_type": "text"
      },
      "source": [
        "<a href=\"https://colab.research.google.com/github/chefhaider/razanlytics/blob/main/tweet_sentiment_analysis.ipynb\" target=\"_parent\"><img src=\"https://colab.research.google.com/assets/colab-badge.svg\" alt=\"Open In Colab\"/></a>"
      ]
    },
    {
      "cell_type": "code",
      "metadata": {
        "id": "tu5YKLQc4Rud",
        "outputId": "c5d89d7e-98a5-449c-8f23-d2b9e585c109",
        "colab": {
          "base_uri": "https://localhost:8080/"
        }
      },
      "source": [
        "pip install pyarrow"
      ],
      "execution_count": 6,
      "outputs": [
        {
          "output_type": "stream",
          "name": "stdout",
          "text": [
            "Requirement already satisfied: pyarrow in /usr/local/lib/python3.7/dist-packages (3.0.0)\n",
            "Requirement already satisfied: numpy>=1.16.6 in /usr/local/lib/python3.7/dist-packages (from pyarrow) (1.19.5)\n"
          ]
        }
      ]
    },
    {
      "cell_type": "code",
      "metadata": {
        "id": "UwddhAtF4q9p"
      },
      "source": [
        "from pyarrow import csv"
      ],
      "execution_count": 11,
      "outputs": []
    },
    {
      "cell_type": "code",
      "metadata": {
        "id": "AMBYQ0Wkbyfi"
      },
      "source": [
        "import pandas as pd"
      ],
      "execution_count": 4,
      "outputs": []
    },
    {
      "cell_type": "code",
      "metadata": {
        "id": "TtKHYiSyZnxf"
      },
      "source": [
        "import os\n",
        "\n",
        "os.environ['KAGGLE_USERNAME'] = \"move78\"\n",
        "os.environ['KAGGLE_KEY'] = \"51b2df54d6826a7b140f6335252c1fcd\""
      ],
      "execution_count": null,
      "outputs": []
    },
    {
      "cell_type": "code",
      "metadata": {
        "colab": {
          "base_uri": "https://localhost:8080/"
        },
        "id": "gtHXsJkeZkU_",
        "outputId": "765bbf4c-a68c-4c5c-8aac-de72184ee0a9"
      },
      "source": [
        "!kaggle datasets download -d alaix14/bitcoin-tweets-20160101-to-20190329 -p /content/drive/MyDrive/fyp/"
      ],
      "execution_count": null,
      "outputs": [
        {
          "output_type": "stream",
          "name": "stdout",
          "text": [
            "Downloading bitcoin-tweets-20160101-to-20190329.zip to /content/drive/MyDrive/fyp\n",
            "100% 1.58G/1.58G [00:56<00:00, 37.9MB/s]\n",
            "100% 1.58G/1.58G [00:56<00:00, 30.1MB/s]\n"
          ]
        }
      ]
    },
    {
      "cell_type": "markdown",
      "metadata": {
        "id": "pReZUXBqdoGK"
      },
      "source": [
        "2021-02-05 10:52:04 - 2021-10-29 23:59:56"
      ]
    },
    {
      "cell_type": "code",
      "metadata": {
        "id": "Hw9TAAMOkSZd"
      },
      "source": [
        "df = pd.read_csv('/content/drive/MyDrive/fyp/bitcoin-tweets.csv')"
      ],
      "execution_count": null,
      "outputs": []
    },
    {
      "cell_type": "code",
      "metadata": {
        "id": "2T7CaeZRbw2o"
      },
      "source": [
        "df = df.drop((list(df.loc[df['is_retweet'].isna() & df['source'].isna() & df['hashtags'].notna()].index))).reset_index()\n",
        "df[df['user_location'].notna() & df['user_location'].str.contains('^20..-',regex = True)].count()"
      ],
      "execution_count": null,
      "outputs": []
    },
    {
      "cell_type": "code",
      "metadata": {
        "id": "3OAvnmSDrZKj",
        "colab": {
          "base_uri": "https://localhost:8080/"
        },
        "outputId": "a8b38bee-dc86-466f-d58d-7c86a0028494"
      },
      "source": [
        "!unzip '/content/drive/MyDrive/fyp/bitcoin-tweets-20160101-to-20190329.zip' -d '/content/drive/MyDrive/fyp/'"
      ],
      "execution_count": null,
      "outputs": [
        {
          "output_type": "stream",
          "name": "stdout",
          "text": [
            "Archive:  /content/drive/MyDrive/fyp/bitcoin-tweets-20160101-to-20190329.zip\n",
            "  inflating: /content/drive/MyDrive/fyp/tweets.csv  \n"
          ]
        }
      ]
    },
    {
      "cell_type": "code",
      "metadata": {
        "id": "P1nQA2DU5HpV",
        "outputId": "094074f4-39d2-4ff5-ec2c-e311ba3c9a12",
        "colab": {
          "base_uri": "https://localhost:8080/",
          "height": 221
        }
      },
      "source": [
        "table = csv.read_csv('/content/drive/MyDrive/fyp/bitcoin-tweets-2016-2019.csv')"
      ],
      "execution_count": 12,
      "outputs": [
        {
          "output_type": "error",
          "ename": "ArrowInvalid",
          "evalue": "ignored",
          "traceback": [
            "\u001b[0;31m---------------------------------------------------------------------------\u001b[0m",
            "\u001b[0;31mArrowInvalid\u001b[0m                              Traceback (most recent call last)",
            "\u001b[0;32m<ipython-input-12-039f32fb3b4e>\u001b[0m in \u001b[0;36m<module>\u001b[0;34m()\u001b[0m\n\u001b[0;32m----> 1\u001b[0;31m \u001b[0mtable\u001b[0m \u001b[0;34m=\u001b[0m \u001b[0mcsv\u001b[0m\u001b[0;34m.\u001b[0m\u001b[0mread_csv\u001b[0m\u001b[0;34m(\u001b[0m\u001b[0;34m'/content/drive/MyDrive/fyp/bitcoin-tweets-2016-2019.csv'\u001b[0m\u001b[0;34m)\u001b[0m\u001b[0;34m\u001b[0m\u001b[0;34m\u001b[0m\u001b[0m\n\u001b[0m",
            "\u001b[0;32m/usr/local/lib/python3.7/dist-packages/pyarrow/_csv.pyx\u001b[0m in \u001b[0;36mpyarrow._csv.read_csv\u001b[0;34m()\u001b[0m\n",
            "\u001b[0;32m/usr/local/lib/python3.7/dist-packages/pyarrow/error.pxi\u001b[0m in \u001b[0;36mpyarrow.lib.pyarrow_internal_check_status\u001b[0;34m()\u001b[0m\n",
            "\u001b[0;32m/usr/local/lib/python3.7/dist-packages/pyarrow/error.pxi\u001b[0m in \u001b[0;36mpyarrow.lib.check_status\u001b[0;34m()\u001b[0m\n",
            "\u001b[0;31mArrowInvalid\u001b[0m: CSV parse error: Expected 1 columns, got 2"
          ]
        }
      ]
    },
    {
      "cell_type": "code",
      "metadata": {
        "id": "d1huB4y6iDFN",
        "colab": {
          "base_uri": "https://localhost:8080/"
        },
        "outputId": "b5a0238f-26f4-4172-ed69-6dc873f95224"
      },
      "source": [
        "df = pd.read_csv('/content/drive/MyDrive/fyp/bitcoin-tweets-2016-2019.csv', sep=';')"
      ],
      "execution_count": 13,
      "outputs": [
        {
          "output_type": "stream",
          "name": "stderr",
          "text": [
            "/usr/local/lib/python3.7/dist-packages/IPython/core/interactiveshell.py:2718: DtypeWarning: Columns (0,1,2,3,4,8) have mixed types.Specify dtype option on import or set low_memory=False.\n",
            "  interactivity=interactivity, compiler=compiler, result=result)\n"
          ]
        }
      ]
    },
    {
      "cell_type": "code",
      "metadata": {
        "id": "wysXRBHOEUrD",
        "outputId": "f8b6aa76-eee3-499d-919b-71ab7240d2c9",
        "colab": {
          "base_uri": "https://localhost:8080/"
        }
      },
      "source": [
        "df.count()"
      ],
      "execution_count": 23,
      "outputs": [
        {
          "output_type": "execute_result",
          "data": {
            "text/plain": [
              "id           20001173\n",
              "user         18810520\n",
              "fullname     18809942\n",
              "url           4588546\n",
              "timestamp    18810521\n",
              "replies      18810521\n",
              "likes        18810521\n",
              "retweets     18810521\n",
              "text         18809800\n",
              "dtype: int64"
            ]
          },
          "metadata": {},
          "execution_count": 23
        }
      ]
    },
    {
      "cell_type": "code",
      "metadata": {
        "id": "-JhUju_17tVt",
        "outputId": "18b6ca8a-7337-43ad-931d-3e233d83fe9e",
        "colab": {
          "base_uri": "https://localhost:8080/",
          "height": 419
        }
      },
      "source": [
        "df.loc[df['text'].isna()]"
      ],
      "execution_count": 22,
      "outputs": [
        {
          "output_type": "execute_result",
          "data": {
            "text/html": [
              "<div>\n",
              "<style scoped>\n",
              "    .dataframe tbody tr th:only-of-type {\n",
              "        vertical-align: middle;\n",
              "    }\n",
              "\n",
              "    .dataframe tbody tr th {\n",
              "        vertical-align: top;\n",
              "    }\n",
              "\n",
              "    .dataframe thead th {\n",
              "        text-align: right;\n",
              "    }\n",
              "</style>\n",
              "<table border=\"1\" class=\"dataframe\">\n",
              "  <thead>\n",
              "    <tr style=\"text-align: right;\">\n",
              "      <th></th>\n",
              "      <th>id</th>\n",
              "      <th>user</th>\n",
              "      <th>fullname</th>\n",
              "      <th>url</th>\n",
              "      <th>timestamp</th>\n",
              "      <th>replies</th>\n",
              "      <th>likes</th>\n",
              "      <th>retweets</th>\n",
              "      <th>text</th>\n",
              "    </tr>\n",
              "  </thead>\n",
              "  <tbody>\n",
              "    <tr>\n",
              "      <th>2197153</th>\n",
              "      <td>最近、元気がないので、ちと心配いたし候。</td>\n",
              "      <td>NaN</td>\n",
              "      <td>NaN</td>\n",
              "      <td>NaN</td>\n",
              "      <td>NaN</td>\n",
              "      <td>NaN</td>\n",
              "      <td>NaN</td>\n",
              "      <td>NaN</td>\n",
              "      <td>NaN</td>\n",
              "    </tr>\n",
              "    <tr>\n",
              "      <th>2197154</th>\n",
              "      <td>復活を切に望みし候。</td>\n",
              "      <td>NaN</td>\n",
              "      <td>NaN</td>\n",
              "      <td>NaN</td>\n",
              "      <td>NaN</td>\n",
              "      <td>NaN</td>\n",
              "      <td>NaN</td>\n",
              "      <td>NaN</td>\n",
              "      <td>NaN</td>\n",
              "    </tr>\n",
              "    <tr>\n",
              "      <th>2197155</th>\n",
              "      <td>運用108日目</td>\n",
              "      <td>NaN</td>\n",
              "      <td>NaN</td>\n",
              "      <td>NaN</td>\n",
              "      <td>NaN</td>\n",
              "      <td>NaN</td>\n",
              "      <td>NaN</td>\n",
              "      <td>NaN</td>\n",
              "      <td>NaN</td>\n",
              "    </tr>\n",
              "    <tr>\n",
              "      <th>2197156</th>\n",
              "      <td>配当 1.00％</td>\n",
              "      <td>NaN</td>\n",
              "      <td>NaN</td>\n",
              "      <td>NaN</td>\n",
              "      <td>NaN</td>\n",
              "      <td>NaN</td>\n",
              "      <td>NaN</td>\n",
              "      <td>NaN</td>\n",
              "      <td>NaN</td>\n",
              "    </tr>\n",
              "    <tr>\n",
              "      <th>2197157</th>\n",
              "      <td>回収率 151.26%</td>\n",
              "      <td>NaN</td>\n",
              "      <td>NaN</td>\n",
              "      <td>NaN</td>\n",
              "      <td>NaN</td>\n",
              "      <td>NaN</td>\n",
              "      <td>NaN</td>\n",
              "      <td>NaN</td>\n",
              "      <td>NaN</td>\n",
              "    </tr>\n",
              "    <tr>\n",
              "      <th>...</th>\n",
              "      <td>...</td>\n",
              "      <td>...</td>\n",
              "      <td>...</td>\n",
              "      <td>...</td>\n",
              "      <td>...</td>\n",
              "      <td>...</td>\n",
              "      <td>...</td>\n",
              "      <td>...</td>\n",
              "      <td>...</td>\n",
              "    </tr>\n",
              "    <tr>\n",
              "      <th>19956031</th>\n",
              "      <td>Join and stay tuned 👇https://t.co/BUDEv1EWYb</td>\n",
              "      <td>NaN</td>\n",
              "      <td>NaN</td>\n",
              "      <td>NaN</td>\n",
              "      <td>NaN</td>\n",
              "      <td>NaN</td>\n",
              "      <td>NaN</td>\n",
              "      <td>NaN</td>\n",
              "      <td>NaN</td>\n",
              "    </tr>\n",
              "    <tr>\n",
              "      <th>19956032</th>\n",
              "      <td>1 BTC to 10 randomly selected voters!</td>\n",
              "      <td>NaN</td>\n",
              "      <td>NaN</td>\n",
              "      <td>NaN</td>\n",
              "      <td>NaN</td>\n",
              "      <td>NaN</td>\n",
              "      <td>NaN</td>\n",
              "      <td>NaN</td>\n",
              "      <td>NaN</td>\n",
              "    </tr>\n",
              "    <tr>\n",
              "      <th>19956033</th>\n",
              "      <td>#halo #haloplatform #free https://t.co/7mzIIedwZ7</td>\n",
              "      <td>NaN</td>\n",
              "      <td>NaN</td>\n",
              "      <td>NaN</td>\n",
              "      <td>NaN</td>\n",
              "      <td>NaN</td>\n",
              "      <td>NaN</td>\n",
              "      <td>NaN</td>\n",
              "      <td>NaN</td>\n",
              "    </tr>\n",
              "    <tr>\n",
              "      <th>20062116</th>\n",
              "      <td>by Clark Street Press</td>\n",
              "      <td>NaN</td>\n",
              "      <td>NaN</td>\n",
              "      <td>NaN</td>\n",
              "      <td>NaN</td>\n",
              "      <td>NaN</td>\n",
              "      <td>NaN</td>\n",
              "      <td>NaN</td>\n",
              "      <td>NaN</td>\n",
              "    </tr>\n",
              "    <tr>\n",
              "      <th>20062117</th>\n",
              "      <td>https://t.co/LfWcM2Ljbb https://t.co/lrdNkrdKta</td>\n",
              "      <td>NaN</td>\n",
              "      <td>NaN</td>\n",
              "      <td>NaN</td>\n",
              "      <td>NaN</td>\n",
              "      <td>NaN</td>\n",
              "      <td>NaN</td>\n",
              "      <td>NaN</td>\n",
              "      <td>NaN</td>\n",
              "    </tr>\n",
              "  </tbody>\n",
              "</table>\n",
              "<p>1355213 rows × 9 columns</p>\n",
              "</div>"
            ],
            "text/plain": [
              "                                                         id user  ... retweets text\n",
              "2197153                                最近、元気がないので、ちと心配いたし候。  NaN  ...      NaN  NaN\n",
              "2197154                                          復活を切に望みし候。  NaN  ...      NaN  NaN\n",
              "2197155                                             運用108日目  NaN  ...      NaN  NaN\n",
              "2197156                                            配当 1.00％  NaN  ...      NaN  NaN\n",
              "2197157                                         回収率 151.26%  NaN  ...      NaN  NaN\n",
              "...                                                     ...  ...  ...      ...  ...\n",
              "19956031      Join and stay tuned 👇https://t.co/BUDEv1EWYb   NaN  ...      NaN  NaN\n",
              "19956032             1 BTC to 10 randomly selected voters!   NaN  ...      NaN  NaN\n",
              "19956033  #halo #haloplatform #free https://t.co/7mzIIedwZ7  NaN  ...      NaN  NaN\n",
              "20062116                             by Clark Street Press   NaN  ...      NaN  NaN\n",
              "20062117    https://t.co/LfWcM2Ljbb https://t.co/lrdNkrdKta  NaN  ...      NaN  NaN\n",
              "\n",
              "[1355213 rows x 9 columns]"
            ]
          },
          "metadata": {},
          "execution_count": 22
        }
      ]
    }
  ]
}
