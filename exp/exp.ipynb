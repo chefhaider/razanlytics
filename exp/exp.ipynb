{
 "cells": [
  {
   "cell_type": "code",
   "execution_count": 35,
   "metadata": {},
   "outputs": [
    {
     "name": "stdout",
     "output_type": "stream",
     "text": [
      "Checking input parameters are in the correct format.\n",
      "Formatting Dates.\n",
      "Checking if user supplied is available on the CoinBase Pro API.\n",
      "Connected to the CoinBase Pro API.\n",
      "Ticker 'BTC-USD' found at the CoinBase Pro API, continuing to extraction.\n",
      "Retrieved Data from Coinbase Pro API.\n",
      "Returning data.\n"
     ]
    }
   ],
   "source": [
    "from Historic_Crypto import HistoricalData\n",
    "import pandas as pd\n",
    "\n",
    "\n",
    "t1 = '2022-06-05-00-00'\n",
    "t2 = '2022-06-07-00-00'\n",
    "\n",
    "df = HistoricalData('BTC-USD',3600,t1,t2).retrieve_data()\n",
    "\n",
    "df.drop(['low', 'high', 'close', 'volume'], axis=1, inplace=True)\n",
    "df.rename_axis('timestamp', inplace=True)\n",
    "df.rename(columns={'open': 'previous'}, inplace=True)\n",
    "df['predicted'] = df['previous']\n",
    "\n",
    "\n",
    "date_condition = df.index < '2022-06-06 00:00:00'\n",
    "df.loc[date_condition, 'predicted'] = pd.NA\n",
    "\n",
    "\n",
    "date_condition = df.index > '2022-06-06 00:00:00'\n",
    "df.loc[date_condition, 'previous'] = pd.NA\n",
    "\n",
    "\n",
    "df.to_csv('./output12.csv')"
   ]
  }
 ],
 "metadata": {
  "kernelspec": {
   "display_name": "Python 3",
   "language": "python",
   "name": "python3"
  },
  "language_info": {
   "codemirror_mode": {
    "name": "ipython",
    "version": 3
   },
   "file_extension": ".py",
   "mimetype": "text/x-python",
   "name": "python",
   "nbconvert_exporter": "python",
   "pygments_lexer": "ipython3",
   "version": "3.12.1"
  }
 },
 "nbformat": 4,
 "nbformat_minor": 2
}
