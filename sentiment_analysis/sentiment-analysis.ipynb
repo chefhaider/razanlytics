{
  "cells": [
    {
      "cell_type": "markdown",
      "metadata": {
        "colab_type": "text",
        "id": "view-in-github"
      },
      "source": [
        "<a href=\"https://colab.research.google.com/github/chefhaider/razanlytics/blob/main/sentiment-analysis.ipynb\" target=\"_parent\"><img src=\"https://colab.research.google.com/assets/colab-badge.svg\" alt=\"Open In Colab\"/></a>"
      ]
    },
    {
      "cell_type": "code",
      "execution_count": 197,
      "metadata": {
        "id": "WYzGZ9ljrzJ9"
      },
      "outputs": [],
      "source": [
        "#pip uninstall pandas-datareader -y\n"
      ]
    },
    {
      "cell_type": "code",
      "execution_count": 198,
      "metadata": {
        "id": "9oyL3ZUR4BbL"
      },
      "outputs": [],
      "source": [
        "#pip install pandas-datareader -U"
      ]
    },
    {
      "cell_type": "code",
      "execution_count": 201,
      "metadata": {
        "id": "YDAgd2ZXhDCL"
      },
      "outputs": [],
      "source": [
        "import pandas as pd\n",
        "import requests\n",
        "\n",
        "import pandas_datareader.data as pdr\n",
        "from datetime import datetime\n",
        "\n",
        "import plotly.offline as py\n",
        "import plotly.graph_objs as go\n",
        "\n",
        "\n",
        "import matplotlib.pyplot as plt\n",
        "import seaborn as sns\n",
        "\n",
        "\"\"\"start = datetime(2018,2,19)\n",
        "end = datetime(2021,6,1)\n",
        "df = pdr.DataReader('BTC-USD','yahoo',start,end)\n",
        "\n",
        "df.head()\"\"\"\n",
        "\n",
        "###########\n",
        "dft = pd.read_csv('/content/drive/MyDrive/fyp/sentiments/btc.csv',skiprows=1)\n",
        "dft['date'] = pd.to_datetime(dft.date)\n",
        "\n",
        "df = dft[(dft['date'] >= init_datetime) & (dft['date'] < fin_datetime)]\n",
        "\n",
        "\n",
        "data = [go.Candlestick(x=df.date,open=df.open,high=df.high,low=df.low,close=df.close)]\n",
        "layout = go.Layout(title='Bitcoin Candlestick with Range Slider',xaxis={'rangeslider':{'visible':True}})\n",
        "\n",
        "fig = go.Figure(data=data,layout=layout)\n",
        "\n",
        "\n",
        "\n",
        "##############\n",
        "\n",
        "dfs = pd.read_csv(f'/content/drive/MyDrive/fyp/sentiments/tweets_{init_datetime}.csv.csv')\n",
        "\n",
        "dfs['timestamp'] = pd.to_datetime(dfs.timestamp)\n",
        "dfs = dfs.resample('H', on='timestamp').agg({'compound':'mean'})"
      ]
    },
    {
      "cell_type": "code",
      "execution_count": null,
      "metadata": {
        "id": "L_tn3VsRrayE"
      },
      "outputs": [],
      "source": [
        "fig.show(renderer=\"colab\")"
      ]
    },
    {
      "cell_type": "code",
      "execution_count": null,
      "metadata": {
        "id": "TxmU_xIRJyVR"
      },
      "outputs": [],
      "source": [
        "plt.figure(figsize = (15,8))\n",
        "sns.lineplot(x = 'timestamp', y = 'compound',data = dfs)"
      ]
    }
  ],
  "metadata": {
    "colab": {
      "authorship_tag": "ABX9TyMSvToDQxXGOc1rFaDpTJPq",
      "include_colab_link": true,
      "mount_file_id": "https://github.com/chefhaider/razanlytics/blob/main/sentiment-analysis.ipynb",
      "name": "sentiment-analysis.ipynb",
      "provenance": []
    },
    "kernelspec": {
      "display_name": "Python 3",
      "name": "python3"
    },
    "language_info": {
      "name": "python"
    }
  },
  "nbformat": 4,
  "nbformat_minor": 0
}
